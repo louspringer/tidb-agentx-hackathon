{
 "cells": [
  {
   "cell_type": "markdown",
   "metadata": {},
   "source": [
    "# GCP Billing Analysis Notebook\n",
    "\n",
    "This notebook contains the billing data for further analysis.\n",
    "\n",
    "## Data Overview\n",
    "- **Date Range**: Last 14 days\n",
    "- **Services**: Cloud Functions, Cloud Run, Firestore, etc.\n",
    "- **Cost Tracking**: Daily breakdown by service"
   ]
  },
  {
   "cell_type": "code",
   "execution_count": null,
   "metadata": {},
   "outputs": [],
   "source": [
    "import matplotlib.pyplot as plt\n",
    "import pandas as pd\n",
    "import plotly.graph_objects as go\n",
    "import seaborn as sns\n",
    "from plotly.subplots import make_subplots\n",
    "\n",
    "# Set style\n",
    "plt.style.use(\"seaborn-v0_8\")\n",
    "sns.set_palette(\"husl\")\n",
    "pd.set_option(\"display.max_columns\", None)"
   ]
  },
  {
   "cell_type": "code",
   "execution_count": null,
   "metadata": {},
   "outputs": [],
   "source": [
    "# Load the data\n",
    "df = pd.read_csv(\"daily_billing_data.csv\")\n",
    "daily_summary = pd.read_csv(\"daily_summary.csv\")\n",
    "\n",
    "# Convert date columns\n",
    "df[\"date\"] = pd.to_datetime(df[\"date\"])\n",
    "daily_summary[\"date\"] = pd.to_datetime(daily_summary[\"date\"])\n",
    "\n",
    "print(\"Data loaded successfully!\")\n",
    "print(f'Date range: {df[\"date\"].min()} to {df[\"date\"].max()}')\n",
    "print(f\"Total records: {len(df)}\")\n",
    "print(f'Unique services: {df[\"service\"].nunique()}')"
   ]
  },
  {
   "cell_type": "code",
   "execution_count": null,
   "metadata": {},
   "outputs": [],
   "source": [
    "# Display data overview\n",
    "print(\"\\n=== Daily Summary ===\")\n",
    "print(daily_summary)\n",
    "\n",
    "print(\"\\n=== Service Cost Summary ===\")\n",
    "service_summary = df.groupby(\"service\")[\"cost\"].agg([\"sum\", \"mean\", \"count\"]).round(4)\n",
    "service_summary.columns = [\"Total Cost\", \"Average Daily Cost\", \"Days Tracked\"]\n",
    "print(service_summary.sort_values(\"Total Cost\", ascending=False))"
   ]
  },
  {
   "cell_type": "code",
   "execution_count": null,
   "metadata": {},
   "outputs": [],
   "source": [
    "# Create custom visualizations\n",
    "fig, axes = plt.subplots(2, 2, figsize=(15, 10))\n",
    "\n",
    "# 1. Daily cost trend\n",
    "axes[0, 0].plot(daily_summary[\"date\"], daily_summary[\"total_cost\"], marker=\"o\")\n",
    "axes[0, 0].set_title(\"Daily Total Cost Trend\")\n",
    "axes[0, 0].set_xlabel(\"Date\")\n",
    "axes[0, 0].set_ylabel(\"Cost ($)\")\n",
    "axes[0, 0].tick_params(axis=\"x\", rotation=45)\n",
    "\n",
    "# 2. Service cost breakdown\n",
    "service_totals = df.groupby(\"service\")[\"cost\"].sum().sort_values(ascending=True)\n",
    "axes[0, 1].barh(service_totals.index, service_totals.values)\n",
    "axes[0, 1].set_title(\"Total Cost by Service\")\n",
    "axes[0, 1].set_xlabel(\"Cost ($)\")\n",
    "\n",
    "# 3. Cost distribution\n",
    "axes[1, 0].hist(daily_summary[\"total_cost\"], bins=10, alpha=0.7)\n",
    "axes[1, 0].set_title(\"Daily Cost Distribution\")\n",
    "axes[1, 0].set_xlabel(\"Cost ($)\")\n",
    "axes[1, 0].set_ylabel(\"Frequency\")\n",
    "\n",
    "# 4. Service count over time\n",
    "service_counts = df.groupby(\"date\")[\"service\"].count()\n",
    "axes[1, 1].plot(service_counts.index, service_counts.values, marker=\"s\")\n",
    "axes[1, 1].set_title(\"Number of Active Services\")\n",
    "axes[1, 1].set_xlabel(\"Date\")\n",
    "axes[1, 1].set_ylabel(\"Service Count\")\n",
    "axes[1, 1].tick_params(axis=\"x\", rotation=45)\n",
    "\n",
    "plt.tight_layout()\n",
    "plt.show()"
   ]
  },
  {
   "cell_type": "code",
   "execution_count": null,
   "metadata": {},
   "outputs": [],
   "source": [
    "# Interactive Plotly dashboard\n",
    "fig = make_subplots(\n",
    "    rows=2, cols=2,\n",
    "    subplot_titles=(\"Daily Cost Trend\", \"Service Breakdown\", \"Cost Distribution\", \"Service Count\"),\n",
    "    specs=[[{\"secondary_y\": False}, {\"secondary_y\": False}],\n",
    "           [{\"secondary_y\": False}, {\"secondary_y\": False}]],\n",
    ")\n",
    "\n",
    "# Add traces\n",
    "fig.add_trace(\n",
    "    go.Scatter(x=daily_summary[\"date\"], y=daily_summary[\"total_cost\"],\n",
    "              mode=\"lines+markers\", name=\"Total Cost\"),\n",
    "    row=1, col=1,\n",
    ")\n",
    "\n",
    "for service in df[\"service\"].unique():\n",
    "    service_data = df[df[\"service\"] == service]\n",
    "    fig.add_trace(\n",
    "        go.Bar(x=service_data[\"date\"], y=service_data[\"cost\"], name=service),\n",
    "        row=1, col=2,\n",
    "    )\n",
    "\n",
    "fig.add_trace(\n",
    "    go.Histogram(x=daily_summary[\"total_cost\"], name=\"Cost Distribution\"),\n",
    "    row=2, col=1,\n",
    ")\n",
    "\n",
    "fig.add_trace(\n",
    "    go.Scatter(x=service_counts.index, y=service_counts.values,\n",
    "              mode=\"lines+markers\", name=\"Service Count\"),\n",
    "    row=2, col=2,\n",
    ")\n",
    "\n",
    "fig.update_layout(height=800, title_text=\"GCP Billing Analysis Dashboard\")\n",
    "fig.show()"
   ]
  },
  {
   "cell_type": "markdown",
   "metadata": {},
   "source": [
    "## Analysis Insights\n",
    "\n",
    "### Key Findings:\n",
    "1. **Cost Trends**: Analyze daily cost patterns\n",
    "2. **Service Impact**: Identify which services contribute most to costs\n",
    "3. **Optimization Opportunities**: Find areas for cost reduction\n",
    "4. **Usage Patterns**: Understand service usage over time\n",
    "\n",
    "### Next Steps:\n",
    "- Set up automated billing alerts\n",
    "- Implement cost optimization strategies\n",
    "- Monitor usage patterns for anomalies\n",
    "- Plan for scaling decisions"
   ]
  }
 ],
 "metadata": {
  "kernelspec": {
   "display_name": "Python 3",
   "language": "python",
   "name": "python3"
  },
  "language_info": {
   "codemirror_mode": {
    "name": "ipython",
    "version": 3
   },
   "file_extension": ".py",
   "mimetype": "text/x-python",
   "name": "python",
   "nbconvert_exporter": "python",
   "pygments_lexer": "ipython3",
   "version": "3.8.0"
  }
 },
 "nbformat": 4,
 "nbformat_minor": 4
}