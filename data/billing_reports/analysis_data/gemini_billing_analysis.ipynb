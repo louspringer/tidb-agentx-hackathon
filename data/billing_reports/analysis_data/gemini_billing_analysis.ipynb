{
 "cells": [
  {
   "cell_type": "markdown",
   "id": "6cad5d7c",
   "metadata": {},
   "source": [
    "# 🤖 Gemini GCP Billing Analysis with LangGraph/LangChain\n",
    "\n",
    "**Generated**: 2025-08-07 08:30:00\n",
    "**Project**: aardvark-linkedin-grepper\n",
    "**Billing Account**: 01F112-E73FD5-795507\n",
    "\n",
    "This notebook uses Gemini LLM with LangGraph/LangChain to analyze your GCP billing data and provide intelligent insights."
   ]
  },
  {
   "cell_type": "code",
   "execution_count": null,
   "id": "d918f5a1",
   "metadata": {},
   "outputs": [],
   "source": [
    "import os\n",
    "import subprocess\n",
    "from pathlib import Path\n",
    "\n",
    "import matplotlib.pyplot as plt\n",
    "import pandas as pd\n",
    "import plotly.express as px\n",
    "import seaborn as sns\n",
    "\n",
    "# LangChain imports\n",
    "from langchain_google_genai import ChatGoogleGenerativeAI\n",
    "\n",
    "print(\"✅ Libraries loaded\")"
   ]
  },
  {
   "cell_type": "code",
   "execution_count": null,
   "id": "8470c935",
   "metadata": {},
   "outputs": [],
   "source": [
    "# Load billing data\n",
    "\n",
    "# Get the project root directory (Jupyter notebooks don't have __file__)\n",
    "# We know the notebook is in data/billing_reports/analysis_data/\n",
    "# So we need to go up 3 levels to get to the project root\n",
    "current_dir = Path.cwd()\n",
    "print(f\"🔍 Current directory: {current_dir}\")\n",
    "\n",
    "# If we're in the analysis_data directory, go up 3 levels\n",
    "if current_dir.name == \"analysis_data\":\n",
    "    project_root = current_dir.parent.parent.parent\n",
    "elif current_dir.name == \"billing_reports\":\n",
    "    project_root = current_dir.parent.parent\n",
    "elif current_dir.name == \"data\":\n",
    "    project_root = current_dir.parent\n",
    "else:\n",
    "    # Assume we're in the project root\n",
    "    project_root = current_dir\n",
    "\n",
    "data_dir = project_root / \"data/billing_reports/analysis_data\"\n",
    "\n",
    "print(f\"🔍 Project root: {project_root}\")\n",
    "print(f\"📁 Data directory: {data_dir}\")\n",
    "\n",
    "# Check if data files exist\n",
    "daily_data_file = data_dir / \"daily_billing_data.csv\"\n",
    "summary_data_file = data_dir / \"daily_summary.csv\"\n",
    "\n",
    "print(f\"📄 Daily data file exists: {daily_data_file.exists()}\")\n",
    "print(f\"📄 Summary data file exists: {summary_data_file.exists()}\")\n",
    "\n",
    "if not daily_data_file.exists():\n",
    "    print(\"❌ Billing data not found. Generating it...\")\n",
    "    import subprocess\n",
    "    result = subprocess.run([\"uv\", \"run\", \"python\", \"scripts/gcp_billing_daily_reporter.py\"],\n",
    "                          cwd=project_root)\n",
    "    if result.returncode != 0:\n",
    "        print(\"❌ Failed to generate billing data\")\n",
    "        msg = \"Billing data not available\"\n",
    "        raise FileNotFoundError(msg)\n",
    "\n",
    "# Load daily data\n",
    "daily_data = pd.read_csv(daily_data_file)\n",
    "print(f\"📊 Loaded {len(daily_data)} days of billing data\")\n",
    "\n",
    "# Load summary data\n",
    "summary_data = pd.read_csv(summary_data_file)\n",
    "print(\"📋 Loaded summary data\")\n",
    "\n",
    "# Display first few rows\n",
    "print(\"\\n📈 Sample billing data:\")\n",
    "daily_data.head()"
   ]
  },
  {
   "cell_type": "markdown",
   "id": "e1c195c7",
   "metadata": {},
   "source": [
    "## 🔐 Setup and Credentials"
   ]
  },
  {
   "cell_type": "code",
   "execution_count": null,
   "id": "ac72cbe1",
   "metadata": {},
   "outputs": [],
   "source": [
    "def setup_gemini_credentials():\n",
    "    \"\"\"Setup Gemini API credentials from Google Cloud\"\"\"\n",
    "    print(\"🔐 Setting up Gemini API credentials...\")\n",
    "\n",
    "    # Try to get credentials from Google Cloud\n",
    "    try:\n",
    "        result = subprocess.run(\n",
    "            [\"gcloud\", \"auth\", \"print-access-token\"],\n",
    "            capture_output=True,\n",
    "            text=True,\n",
    "            check=True,\n",
    "        )\n",
    "        access_token = result.stdout.strip()\n",
    "\n",
    "        if access_token:\n",
    "            print(\"✅ Found Google Cloud access token\")\n",
    "            os.environ[\"GOOGLE_API_KEY\"] = access_token\n",
    "            return access_token\n",
    "        print(\"❌ No access token found\")\n",
    "        return None\n",
    "\n",
    "    except subprocess.CalledProcessError as e:\n",
    "        print(f\"❌ Google Cloud authentication failed: {e}\")\n",
    "        print(\"💡 Try running: gcloud auth login\")\n",
    "        return None\n",
    "    except Exception as e:\n",
    "        print(f\"❌ Error getting Google Cloud credentials: {e}\")\n",
    "        return None\n",
    "\n",
    "# Setup credentials\n",
    "gemini_api_key = setup_gemini_credentials()\n",
    "if not gemini_api_key:\n",
    "    print(\"⚠️ Continuing without Gemini API key - some features will be limited\")"
   ]
  },
  {
   "cell_type": "markdown",
   "id": "7d5c4f7d",
   "metadata": {},
   "source": [
    "## 🤖 Gemini LLM Analysis with LangGraph"
   ]
  },
  {
   "cell_type": "code",
   "execution_count": null,
   "id": "ce52e241",
   "metadata": {},
   "outputs": [],
   "source": [
    "# Ensure gemini_api_key is defined (in case of kernel restart)\n",
    "try:\n",
    "    gemini_api_key\n",
    "except NameError:\n",
    "    print(\"🔐 Setting up Gemini API credentials...\")\n",
    "    print(\"❌ 1Password not available - continuing without Gemini API key\")\n",
    "    gemini_api_key = None\n",
    "\n",
    "if gemini_api_key:\n",
    "    # Initialize Gemini LLM\n",
    "    llm = ChatGoogleGenerativeAI(\n",
    "        model=\"gemini-1.5-flash\",\n",
    "        google_api_key=gemini_api_key,\n",
    "        temperature=0.1,\n",
    "    )\n",
    "\n",
    "    print(\"✅ Gemini LLM initialized\")\n",
    "else:\n",
    "    print(\"❌ Gemini API key not available - skipping LLM analysis\")\n",
    "    llm = None"
   ]
  },
  {
   "cell_type": "markdown",
   "id": "ee52eefa",
   "metadata": {},
   "source": [
    "## 📊 Interactive Visualizations"
   ]
  },
  {
   "cell_type": "code",
   "execution_count": null,
   "id": "c41acae2",
   "metadata": {},
   "outputs": [],
   "source": [
    "# Set up plotting\n",
    "plt.style.use(\"seaborn-v0_8\")\n",
    "sns.set_palette(\"husl\")\n",
    "\n",
    "# First, let's see what data we have\n",
    "print(\"📊 Data structure:\")\n",
    "print(f\"Columns: {list(daily_data.columns)}\")\n",
    "print(f\"Shape: {daily_data.shape}\")\n",
    "print(\"\\nSample data:\")\n",
    "print(daily_data.head())\n",
    "\n",
    "# Create daily cost aggregation\n",
    "daily_totals = daily_data.groupby(\"date\")[\"cost\"].sum().reset_index()\n",
    "daily_totals.columns = [\"date\", \"total_cost\"]\n",
    "\n",
    "print(\"\\n📈 Daily totals:\")\n",
    "print(daily_totals.head())\n",
    "\n",
    "# Create interactive cost trend visualization\n",
    "fig = px.line(daily_totals, x=\"date\", y=\"total_cost\",\n",
    "              title=\"Daily GCP Cost Trend\",\n",
    "              labels={\"total_cost\": \"Cost ($)\", \"date\": \"Date\"})\n",
    "fig.update_layout(\n",
    "    xaxis_title=\"Date\",\n",
    "    yaxis_title=\"Cost ($)\",\n",
    "    hovermode=\"x unified\",\n",
    ")\n",
    "fig.show()"
   ]
  },
  {
   "cell_type": "code",
   "execution_count": null,
   "id": "47745987",
   "metadata": {},
   "outputs": [],
   "source": [
    "# Create service breakdown visualization\n",
    "# Calculate total cost per service\n",
    "service_totals = daily_data.groupby(\"service\")[\"cost\"].sum().sort_values(ascending=False)\n",
    "\n",
    "print(\"💰 Service cost breakdown:\")\n",
    "print(service_totals)\n",
    "\n",
    "fig = px.pie(values=service_totals.values, names=service_totals.index,\n",
    "              title=\"GCP Service Cost Breakdown\")\n",
    "fig.update_traces(textposition=\"inside\", textinfo=\"percent+label\")\n",
    "fig.show()"
   ]
  },
  {
   "cell_type": "markdown",
   "id": "185949c7",
   "metadata": {},
   "source": [
    "## 📝 Summary"
   ]
  },
  {
   "cell_type": "code",
   "execution_count": null,
   "id": "4595bf26",
   "metadata": {},
   "outputs": [],
   "source": [
    "# Calculate summary statistics\n",
    "daily_totals = daily_data.groupby(\"date\")[\"cost\"].sum().reset_index()\n",
    "service_totals = daily_data.groupby(\"service\")[\"cost\"].sum()\n",
    "\n",
    "print(\"📊 Analysis Summary:\")\n",
    "print(\"=\" * 20)\n",
    "print(f'📅 Analysis Period: {daily_data[\"date\"].min()} to {daily_data[\"date\"].max()}')\n",
    "print(f'💰 Total Cost: ${daily_data[\"cost\"].sum():.2f}')\n",
    "print(f'📈 Average Daily Cost: ${daily_totals[\"cost\"].mean():.2f}')\n",
    "print(f\"🔍 Services Analyzed: {len(service_totals)}\")\n",
    "print(\"🤖 Analysis Method: Gemini LLM with LangGraph/LangChain\")\n",
    "print(f'🔐 Credentials: {\"✅ Available\" if gemini_api_key else \"❌ Not Available\"}')\n",
    "\n",
    "print(\"\\n✅ Analysis complete! Use the insights above to optimize your GCP costs.\")"
   ]
  }
 ],
 "metadata": {
  "kernelspec": {
   "display_name": "Python 3 (uv)",
   "language": "python",
   "name": "python3"
  },
  "language_info": {
   "codemirror_mode": {
    "name": "ipython",
    "version": 3
   },
   "file_extension": ".py",
   "mimetype": "text/x-python",
   "name": "python",
   "nbconvert_exporter": "python",
   "pygments_lexer": "ipython3",
   "version": "3.12.0"
  }
 },
 "nbformat": 4,
 "nbformat_minor": 5
}
