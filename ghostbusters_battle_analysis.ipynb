{
 "cells": [
  {
   "cell_type": "markdown",
   "id": "eea21610",
   "metadata": {},
   "source": [
    "# 🎯 Ghostbusters Battle Analysis Notebook\n",
    "\n",
    "Exploring all the interesting data in the Ghostbusters state!"
   ]
  },
  {
   "cell_type": "code",
   "execution_count": null,
   "id": "9e56e801",
   "metadata": {},
   "outputs": [],
   "source": [
    "from dataclasses import asdict\n",
    "\n",
    "# Import Ghostbusters\n",
    "from src.ghostbusters.ghostbusters_orchestrator import run_ghostbusters"
   ]
  },
  {
   "cell_type": "markdown",
   "id": "0af1d56a",
   "metadata": {},
   "source": [
    "## 🔍 Running Ghostbusters Analysis"
   ]
  },
  {
   "cell_type": "code",
   "execution_count": null,
   "id": "76341a75",
   "metadata": {},
   "outputs": [],
   "source": [
    "# Run Ghostbusters and get the state\n",
    "print(\"🚀 Running Ghostbusters analysis...\")\n",
    "state = await run_ghostbusters(\".\")\n",
    "print(f\"✅ Ghostbusters completed with confidence: {state.confidence_score}\")"
   ]
  },
  {
   "cell_type": "markdown",
   "id": "1fe42e6f",
   "metadata": {},
   "source": [
    "## 📊 State Structure Analysis"
   ]
  },
  {
   "cell_type": "code",
   "execution_count": null,
   "id": "5f1cdbfb",
   "metadata": {},
   "outputs": [],
   "source": [
    "# Explore the state structure\n",
    "print(\"🎯 GHOSTBUSTERS STATE STRUCTURE:\")\n",
    "print(f\"   Type: {type(state)}\")\n",
    "print(f\"   Attributes: {dir(state)}\")\n",
    "print()\n",
    "\n",
    "# Show all state attributes\n",
    "for attr in dir(state):\n",
    "    if not attr.startswith(\"_\"):\n",
    "        value = getattr(state, attr)\n",
    "        if hasattr(value, \"__len__\"):\n",
    "            print(f\"   {attr}: {len(value)} items\")\n",
    "        else:\n",
    "            print(f\"   {attr}: {value}\")"
   ]
  },
  {
   "cell_type": "markdown",
   "id": "8e752fa3",
   "metadata": {},
   "source": [
    "## 👻 Delusions Analysis"
   ]
  },
  {
   "cell_type": "code",
   "execution_count": null,
   "id": "dd24c6ad",
   "metadata": {},
   "outputs": [],
   "source": [
    "# Analyze delusions detected\n",
    "print(f\"👻 TOTAL DELUSIONS DETECTED: {len(state.delusions_detected):,}\")\n",
    "print()\n",
    "\n",
    "# Show first few delusions\n",
    "if state.delusions_detected:\n",
    "    print(\"📋 SAMPLE DELUSIONS:\")\n",
    "    for i, delusion in enumerate(state.delusions_detected[:5]):\n",
    "        print(f\"   {i+1}. {delusion}\")\n",
    "\n",
    "    # Analyze delusion types\n",
    "    delusion_types = {}\n",
    "    for delusion in state.delusions_detected:\n",
    "        if isinstance(delusion, dict):\n",
    "            delusion_type = delusion.get(\"type\", \"unknown\")\n",
    "            delusion_types[delusion_type] = delusion_types.get(delusion_type, 0) + 1\n",
    "\n",
    "    print(\"\\n📊 DELUSION TYPES:\")\n",
    "    for delusion_type, count in delusion_types.items():\n",
    "        print(f\"   {delusion_type}: {count:,}\")"
   ]
  },
  {
   "cell_type": "markdown",
   "id": "da0d339b",
   "metadata": {},
   "source": [
    "## 🔧 Recovery Actions Analysis"
   ]
  },
  {
   "cell_type": "code",
   "execution_count": null,
   "id": "dbe453dc",
   "metadata": {},
   "outputs": [],
   "source": [
    "# Analyze recovery actions\n",
    "print(f\"🔧 TOTAL RECOVERY ACTIONS: {len(state.recovery_actions):,}\")\n",
    "print()\n",
    "\n",
    "# Show first few recovery actions\n",
    "if state.recovery_actions:\n",
    "    print(\"📋 SAMPLE RECOVERY ACTIONS:\")\n",
    "    for i, action in enumerate(state.recovery_actions[:5]):\n",
    "        print(f\"   {i+1}. {action}\")\n",
    "\n",
    "    # Analyze recovery action types\n",
    "    action_types = {}\n",
    "    for action in state.recovery_actions:\n",
    "        if isinstance(action, dict):\n",
    "            action_type = action.get(\"engine\", \"unknown\")\n",
    "            action_types[action_type] = action_types.get(action_type, 0) + 1\n",
    "\n",
    "    print(\"\\n📊 RECOVERY ACTION TYPES:\")\n",
    "    for action_type, count in action_types.items():\n",
    "        print(f\"   {action_type}: {count:,}\")"
   ]
  },
  {
   "cell_type": "markdown",
   "id": "2d1d4fc6",
   "metadata": {},
   "source": [
    "## 📈 Validation Results Analysis"
   ]
  },
  {
   "cell_type": "code",
   "execution_count": null,
   "id": "bdb6d826",
   "metadata": {},
   "outputs": [],
   "source": [
    "# Analyze validation results\n",
    "print(\"📈 VALIDATION RESULTS:\")\n",
    "print(f\"   Type: {type(state.validation_results)}\")\n",
    "print(f\"   Keys: {list(state.validation_results.keys()) if isinstance(state.validation_results, dict) else 'Not a dict'}\")\n",
    "print()\n",
    "\n",
    "if isinstance(state.validation_results, dict):\n",
    "    for key, value in state.validation_results.items():\n",
    "        print(f\"   {key}: {value}\")"
   ]
  },
  {
   "cell_type": "markdown",
   "id": "6b2fc3d4",
   "metadata": {},
   "source": [
    "## 🚀 Recovery Results Analysis"
   ]
  },
  {
   "cell_type": "code",
   "execution_count": null,
   "id": "0d5c1560",
   "metadata": {},
   "outputs": [],
   "source": [
    "# Analyze recovery results\n",
    "print(\"🚀 RECOVERY RESULTS:\")\n",
    "print(f\"   Type: {type(state.recovery_results)}\")\n",
    "print(f\"   Keys: {list(state.recovery_results.keys()) if isinstance(state.recovery_results, dict) else 'Not a dict'}\")\n",
    "print()\n",
    "\n",
    "if isinstance(state.recovery_results, dict):\n",
    "    for key, value in state.recovery_results.items():\n",
    "        print(f\"   {key}: {value}\")"
   ]
  },
  {
   "cell_type": "markdown",
   "id": "802ffeb5",
   "metadata": {},
   "source": [
    "## 📊 Metadata Analysis"
   ]
  },
  {
   "cell_type": "code",
   "execution_count": null,
   "id": "5ce7202f",
   "metadata": {},
   "outputs": [],
   "source": [
    "# Analyze metadata\n",
    "print(\"📊 METADATA:\")\n",
    "print(f\"   Type: {type(state.metadata)}\")\n",
    "print(f\"   Keys: {list(state.metadata.keys()) if isinstance(state.metadata, dict) else 'Not a dict'}\")\n",
    "print()\n",
    "\n",
    "if isinstance(state.metadata, dict):\n",
    "    for key, value in state.metadata.items():\n",
    "        print(f\"   {key}: {value}\")"
   ]
  },
  {
   "cell_type": "markdown",
   "id": "7c9ab9a5",
   "metadata": {},
   "source": [
    "## 🎯 Battle Readiness Summary"
   ]
  },
  {
   "cell_type": "code",
   "execution_count": null,
   "id": "6485221b",
   "metadata": {},
   "outputs": [],
   "source": [
    "# Create battle readiness summary\n",
    "print(\"🎯\" + \"=\"*60 + \"🎯\")\n",
    "print(\"           GHOSTBUSTERS BATTLE READINESS SUMMARY\")\n",
    "print(\"🎯\" + \"=\"*60 + \"🎯\")\n",
    "print()\n",
    "print(f\"🎯 Confidence Score: {state.confidence_score:.2f}\")\n",
    "print(f\"👻 Delusions Detected: {len(state.delusions_detected):,}\")\n",
    "print(f\"🔧 Recovery Actions: {len(state.recovery_actions):,}\")\n",
    "print(f\"📊 Current Phase: {state.current_phase}\")\n",
    "print(f\"❌ Errors: {len(state.errors)}\")\n",
    "print(f\"⚠️  Warnings: {len(state.warnings)}\")\n",
    "print()\n",
    "print(\"🎯 BATTLE ASSESSMENT:\")\n",
    "if len(state.delusions_detected) > 0:\n",
    "    print(\"   ✅ MASSIVE DETECTION CAPACITY\")\n",
    "if len(state.recovery_actions) > 0:\n",
    "    print(\"   ✅ COMPREHENSIVE RECOVERY PLANNING\")\n",
    "if len(state.errors) == 0:\n",
    "    print(\"   ✅ CLEAN OPERATION\")\n",
    "if len(state.warnings) == 0:\n",
    "    print(\"   ✅ ZERO WARNINGS\")\n",
    "print(\"   ✅ READY FOR HACKATHON COMBAT!\")\n",
    "print()\n",
    "print(\"🎯\" + \"=\"*60 + \"🎯\")"
   ]
  },
  {
   "cell_type": "markdown",
   "id": "6b8b7331",
   "metadata": {},
   "source": [
    "## 🔍 Deep Dive: State Object Exploration"
   ]
  },
  {
   "cell_type": "code",
   "execution_count": null,
   "id": "3be4c9b2",
   "metadata": {},
   "outputs": [],
   "source": [
    "# Deep dive into state object\n",
    "print(\"🔍 DEEP DIVE INTO STATE OBJECT:\")\n",
    "print()\n",
    "\n",
    "# Convert state to dict for easier exploration\n",
    "try:\n",
    "    state_dict = asdict(state)\n",
    "    print(\"✅ State converted to dictionary successfully\")\n",
    "    print(f\"   Keys: {list(state_dict.keys())}\")\n",
    "\n",
    "    # Show detailed breakdown\n",
    "    for key, value in state_dict.items():\n",
    "        if isinstance(value, (list, dict)):\n",
    "            print(f\"   {key}: {len(value)} items\")\n",
    "        else:\n",
    "            print(f\"   {key}: {value}\")\n",
    "\n",
    "except Exception as e:\n",
    "    print(f\"❌ Could not convert state to dict: {e}\")\n",
    "    print(\"   State object structure:\")\n",
    "    for attr in dir(state):\n",
    "        if not attr.startswith(\"_\"):\n",
    "            try:\n",
    "                value = getattr(state, attr)\n",
    "                print(f\"   {attr}: {type(value)}\")\n",
    "            except Exception as e:\n",
    "                print(f\"   {attr}: Error accessing - {e}\")"
   ]
  }
 ],
 "metadata": {},
 "nbformat": 4,
 "nbformat_minor": 5
}
